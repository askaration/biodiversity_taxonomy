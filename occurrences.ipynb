{
  "cells": [
    {
      "cell_type": "markdown",
      "metadata": {
        "id": "view-in-github",
        "colab_type": "text"
      },
      "source": [
        "<a href=\"https://colab.research.google.com/github/askaration/biodiversity_taxonomy/blob/main/occurrences.ipynb\" target=\"_parent\"><img src=\"https://colab.research.google.com/assets/colab-badge.svg\" alt=\"Open In Colab\"/></a>"
      ]
    },
    {
      "cell_type": "code",
      "execution_count": null,
      "metadata": {
        "id": "eWvxUv9Pozyh",
        "colab": {
          "base_uri": "https://localhost:8080/"
        },
        "outputId": "e3808ea4-5020-491f-fa38-1dd92f666eb7"
      },
      "outputs": [
        {
          "output_type": "stream",
          "name": "stdout",
          "text": [
            "Requirement already satisfied: geopy in /usr/local/lib/python3.10/dist-packages (2.3.0)\n",
            "Requirement already satisfied: geographiclib<3,>=1.52 in /usr/local/lib/python3.10/dist-packages (from geopy) (2.0)\n",
            "Requirement already satisfied: geocoder in /usr/local/lib/python3.10/dist-packages (1.38.1)\n",
            "Requirement already satisfied: click in /usr/local/lib/python3.10/dist-packages (from geocoder) (8.1.7)\n",
            "Requirement already satisfied: future in /usr/local/lib/python3.10/dist-packages (from geocoder) (0.18.3)\n",
            "Requirement already satisfied: ratelim in /usr/local/lib/python3.10/dist-packages (from geocoder) (0.1.6)\n",
            "Requirement already satisfied: requests in /usr/local/lib/python3.10/dist-packages (from geocoder) (2.31.0)\n",
            "Requirement already satisfied: six in /usr/local/lib/python3.10/dist-packages (from geocoder) (1.16.0)\n",
            "Requirement already satisfied: decorator in /usr/local/lib/python3.10/dist-packages (from ratelim->geocoder) (4.4.2)\n",
            "Requirement already satisfied: charset-normalizer<4,>=2 in /usr/local/lib/python3.10/dist-packages (from requests->geocoder) (3.3.2)\n",
            "Requirement already satisfied: idna<4,>=2.5 in /usr/local/lib/python3.10/dist-packages (from requests->geocoder) (3.7)\n",
            "Requirement already satisfied: urllib3<3,>=1.21.1 in /usr/local/lib/python3.10/dist-packages (from requests->geocoder) (2.0.7)\n",
            "Requirement already satisfied: certifi>=2017.4.17 in /usr/local/lib/python3.10/dist-packages (from requests->geocoder) (2024.2.2)\n"
          ]
        }
      ],
      "source": [
        "# Installing necessary libraries that are not available by default\n",
        "!pip install geopy\n",
        "!pip install geocoder\n",
        "\n",
        "# Importing libraries\n",
        "import pandas as pd\n",
        "import numpy as np\n",
        "from geopy.geocoders import Nominatim\n",
        "from geopy.exc import GeocoderTimedOut, GeocoderUnavailable\n",
        "import time\n",
        "import geocoder\n"
      ]
    },
    {
      "cell_type": "code",
      "execution_count": null,
      "metadata": {
        "colab": {
          "base_uri": "https://localhost:8080/"
        },
        "id": "PgyNiM33oJiq",
        "outputId": "62cc7c8a-547c-48ae-a564-109ea9b6627a"
      },
      "outputs": [
        {
          "output_type": "stream",
          "name": "stdout",
          "text": [
            "Drive already mounted at /content/drive; to attempt to forcibly remount, call drive.mount(\"/content/drive\", force_remount=True).\n"
          ]
        }
      ],
      "source": [
        "from google.colab import drive\n",
        "drive.mount('/content/drive')\n"
      ]
    },
    {
      "cell_type": "code",
      "execution_count": null,
      "metadata": {
        "id": "IrhHP61Upmcs"
      },
      "outputs": [],
      "source": [
        "file_path = \"/content/drive/MyDrive/Spring 2024/Independent Study/Week 12/occurrences.csv\""
      ]
    },
    {
      "cell_type": "code",
      "execution_count": null,
      "metadata": {
        "colab": {
          "base_uri": "https://localhost:8080/"
        },
        "id": "QRj15HUBpxtr",
        "outputId": "c73d75c1-f7e9-41db-b39b-c1e15b94a0de"
      },
      "outputs": [
        {
          "output_type": "execute_result",
          "data": {
            "text/plain": [
              "Index(['id', 'institutionCode', 'collectionID', 'basisOfRecord',\n",
              "       'occurrenceID', 'catalogNumber', 'otherCatalogNumbers',\n",
              "       'higherClassification', 'kingdom', 'phylum', 'class', 'order', 'family',\n",
              "       'scientificName', 'taxonID', 'scientificNameAuthorship', 'genus',\n",
              "       'subgenus', 'specificEpithet', 'verbatimTaxonRank',\n",
              "       'infraspecificEpithet', 'taxonRank', 'identifiedBy', 'dateIdentified',\n",
              "       'identificationRemarks', 'recordedBy', 'recordNumber', 'eventDate',\n",
              "       'year', 'verbatimEventDate', 'occurrenceRemarks', 'habitat',\n",
              "       'informationWithheld', 'dynamicProperties', 'associatedOccurrences',\n",
              "       'associatedTaxa', 'reproductiveCondition', 'lifeStage', 'sex',\n",
              "       'country', 'stateProvince', 'county', 'municipality', 'locality',\n",
              "       'decimalLatitude', 'decimalLongitude', 'geodeticDatum',\n",
              "       'coordinateUncertaintyInMeters', 'georeferenceProtocol',\n",
              "       'georeferenceSources', 'georeferenceVerificationStatus',\n",
              "       'georeferenceRemarks', 'recordEnteredBy', 'modified', 'rights',\n",
              "       'rightsHolder', 'accessRights', 'recordID', 'references'],\n",
              "      dtype='object')"
            ]
          },
          "metadata": {},
          "execution_count": 43
        }
      ],
      "source": [
        "data = pd.read_csv(file_path, encoding=\"latin1\", low_memory=False)\n",
        "data.columns"
      ]
    },
    {
      "cell_type": "code",
      "execution_count": null,
      "metadata": {
        "colab": {
          "base_uri": "https://localhost:8080/"
        },
        "id": "EtbDWm3-qWps",
        "outputId": "029a03ab-9099-42d0-b787-50ee21cbbb61"
      },
      "outputs": [
        {
          "output_type": "stream",
          "name": "stdout",
          "text": [
            "Column id has 0 empty cells, which makes 0.0% of the column. \n",
            "\n",
            "Column institutionCode has 0 empty cells, which makes 0.0% of the column. \n",
            "\n",
            "Column collectionID has 0 empty cells, which makes 0.0% of the column. \n",
            "\n",
            "Column basisOfRecord has 0 empty cells, which makes 0.0% of the column. \n",
            "\n",
            "Column occurrenceID has 0 empty cells, which makes 0.0% of the column. \n",
            "\n",
            "Column catalogNumber has 32 empty cells, which makes 0.02% of the column. \n",
            "\n",
            "Column otherCatalogNumbers has 44624 empty cells, which makes 33.91% of the column. \n",
            "\n",
            "Column higherClassification has 768 empty cells, which makes 0.58% of the column. \n",
            "\n",
            "Column kingdom has 768 empty cells, which makes 0.58% of the column. \n",
            "\n",
            "Column phylum has 771 empty cells, which makes 0.59% of the column. \n",
            "\n",
            "Column class has 106956 empty cells, which makes 81.27% of the column. \n",
            "\n",
            "Column order has 771 empty cells, which makes 0.59% of the column. \n",
            "\n",
            "Column family has 769 empty cells, which makes 0.58% of the column. \n",
            "\n",
            "Column scientificName has 86 empty cells, which makes 0.07% of the column. \n",
            "\n",
            "Column taxonID has 2285 empty cells, which makes 1.74% of the column. \n",
            "\n",
            "Column scientificNameAuthorship has 4865 empty cells, which makes 3.7% of the column. \n",
            "\n",
            "Column genus has 2639 empty cells, which makes 2.01% of the column. \n",
            "\n",
            "Column subgenus has 131608 empty cells, which makes 100.0% of the column. \n",
            "\n",
            "Column specificEpithet has 7505 empty cells, which makes 5.7% of the column. \n",
            "\n",
            "Column verbatimTaxonRank has 127715 empty cells, which makes 97.04% of the column. \n",
            "\n",
            "Column infraspecificEpithet has 127711 empty cells, which makes 97.04% of the column. \n",
            "\n",
            "Column taxonRank has 2285 empty cells, which makes 1.74% of the column. \n",
            "\n",
            "Column identifiedBy has 118376 empty cells, which makes 89.95% of the column. \n",
            "\n",
            "Column dateIdentified has 119653 empty cells, which makes 90.92% of the column. \n",
            "\n",
            "Column identificationRemarks has 21401 empty cells, which makes 16.26% of the column. \n",
            "\n",
            "Column recordedBy has 41042 empty cells, which makes 31.19% of the column. \n",
            "\n",
            "Column recordNumber has 44225 empty cells, which makes 33.6% of the column. \n",
            "\n",
            "Column eventDate has 45746 empty cells, which makes 34.76% of the column. \n",
            "\n",
            "Column year has 42012 empty cells, which makes 31.92% of the column. \n",
            "\n",
            "Column verbatimEventDate has 51974 empty cells, which makes 39.49% of the column. \n",
            "\n",
            "Column occurrenceRemarks has 61120 empty cells, which makes 46.44% of the column. \n",
            "\n",
            "Column habitat has 78157 empty cells, which makes 59.39% of the column. \n",
            "\n",
            "Column informationWithheld has 126329 empty cells, which makes 95.99% of the column. \n",
            "\n",
            "Column dynamicProperties has 131483 empty cells, which makes 99.91% of the column. \n",
            "\n",
            "Column associatedOccurrences has 126372 empty cells, which makes 96.02% of the column. \n",
            "\n",
            "Column associatedTaxa has 129373 empty cells, which makes 98.3% of the column. \n",
            "\n",
            "Column reproductiveCondition has 126551 empty cells, which makes 96.16% of the column. \n",
            "\n",
            "Column lifeStage has 130101 empty cells, which makes 98.85% of the column. \n",
            "\n",
            "Column sex has 131564 empty cells, which makes 99.97% of the column. \n",
            "\n",
            "Column country has 3876 empty cells, which makes 2.95% of the column. \n",
            "\n",
            "Column stateProvince has 12028 empty cells, which makes 9.14% of the column. \n",
            "\n",
            "Column county has 33123 empty cells, which makes 25.17% of the column. \n",
            "\n",
            "Column municipality has 110106 empty cells, which makes 83.66% of the column. \n",
            "\n",
            "Column locality has 55447 empty cells, which makes 42.13% of the column. \n",
            "\n",
            "Column decimalLatitude has 124736 empty cells, which makes 94.78% of the column. \n",
            "\n",
            "Column decimalLongitude has 124738 empty cells, which makes 94.78% of the column. \n",
            "\n",
            "Column geodeticDatum has 128813 empty cells, which makes 97.88% of the column. \n",
            "\n",
            "Column coordinateUncertaintyInMeters has 127688 empty cells, which makes 97.02% of the column. \n",
            "\n",
            "Column georeferenceProtocol has 129149 empty cells, which makes 98.13% of the column. \n",
            "\n",
            "Column georeferenceSources has 128110 empty cells, which makes 97.34% of the column. \n",
            "\n",
            "Column georeferenceVerificationStatus has 130587 empty cells, which makes 99.22% of the column. \n",
            "\n",
            "Column georeferenceRemarks has 128777 empty cells, which makes 97.85% of the column. \n",
            "\n",
            "Column recordEnteredBy has 13002 empty cells, which makes 9.88% of the column. \n",
            "\n",
            "Column modified has 0 empty cells, which makes 0.0% of the column. \n",
            "\n",
            "Column rights has 0 empty cells, which makes 0.0% of the column. \n",
            "\n",
            "Column rightsHolder has 0 empty cells, which makes 0.0% of the column. \n",
            "\n",
            "Column accessRights has 0 empty cells, which makes 0.0% of the column. \n",
            "\n",
            "Column recordID has 0 empty cells, which makes 0.0% of the column. \n",
            "\n",
            "Column references has 0 empty cells, which makes 0.0% of the column. \n",
            "\n"
          ]
        }
      ],
      "source": [
        "results = []\n",
        "\n",
        "\n",
        "for column in data.columns:\n",
        "    empty_cells = data[column].isnull().sum()\n",
        "    empty_percentage = round((empty_cells/data.shape[0]) * 100, 2)\n",
        "    # if empty_percentage >= 30:\n",
        "    (print(f\"Column {column} has {empty_cells} empty cells, which makes {empty_percentage}% of the column. \\n\"))\n",
        "\n",
        "    result_dict = {\n",
        "        \"column\": column,\n",
        "        \"empty cells\": empty_cells,\n",
        "        \"percentage\": empty_percentage\n",
        "    }\n",
        "\n",
        "        # Append the dictionary to the \"results\" list\n",
        "    results.append(result_dict)\n",
        "\n",
        "# Create a DataFrame from the \"results\" list\n",
        "emptyCellResult = pd.DataFrame(results)\n",
        "\n",
        "# Save the DataFrame to a CSV file\n",
        "# emptyCellResult.to_csv(\"empty_cells_analysis.csv\", index=False)"
      ]
    },
    {
      "cell_type": "code",
      "execution_count": null,
      "metadata": {
        "colab": {
          "base_uri": "https://localhost:8080/"
        },
        "id": "7wHXit04qei8",
        "outputId": "46e9d13f-96a2-4758-acbf-b3c7f6b51cca"
      },
      "outputs": [
        {
          "output_type": "stream",
          "name": "stdout",
          "text": [
            "There are 46 columns that match the Darwin Core Occurrence Class out of 59 columns in the dataset.\n"
          ]
        }
      ],
      "source": [
        "darwin_core_terms = [\"occurrenceID\", \"catalogNumber\", \"recordNumber\", \"recordedBy\",\n",
        "    \"individualCount\", \"organismQuantity\", \"organismQuantityType\", \"sex\",\n",
        "    \"lifeStage\", \"reproductiveCondition\", \"behavior\", \"establishmentMeans\",\n",
        "    \"occurrenceStatus\", \"preparations\", \"disposition\", \"associatedMedia\",\n",
        "    \"associatedReferences\", \"associatedSequences\", \"associatedTaxa\",\n",
        "    \"otherCatalogNumbers\", \"occurrenceRemarks\", \"organismID\", \"organismName\",\n",
        "    \"organismScope\", \"associatedOccurrences\", \"associatedOrganisms\",\n",
        "    \"previousIdentifications\", \"eventDate\", \"eventTime\", \"startDayOfYear\",\n",
        "    \"endDayOfYear\", \"year\", \"month\", \"day\", \"verbatimEventDate\", \"habitat\",\n",
        "    \"samplingEffort\", \"samplingProtocol\", \"fieldNumber\", \"eventID\",\n",
        "    \"parentEventID\", \"fieldNotes\", \"eventRemarks\", \"locationID\",\n",
        "    \"higherGeographyID\", \"higherGeography\", \"continent\", \"waterBody\",\n",
        "    \"islandGroup\", \"island\", \"country\", \"countryCode\", \"stateProvince\",\n",
        "    \"county\", \"municipality\", \"locality\", \"verbatimLocality\",\n",
        "    \"verbatimElevation\", \"verbatimDepth\", \"minimumDistanceAboveSurfaceInMeters\",\n",
        "    \"maximumDistanceAboveSurfaceInMeters\", \"locationAccordingTo\",\n",
        "    \"locationRemarks\", \"decimalLatitude\", \"decimalLongitude\", \"geodeticDatum\",\n",
        "    \"coordinateUncertaintyInMeters\", \"coordinatePrecision\",\n",
        "    \"pointRadiusSpatialFit\", \"verbatimCoordinates\", \"verbatimLatitude\",\n",
        "    \"verbatimLongitude\", \"verbatimCoordinateSystem\", \"verbatimSRS\",\n",
        "    \"footprintWKT\", \"footprintSRS\", \"footprintSpatialFit\", \"georeferencedBy\",\n",
        "    \"georeferencedDate\", \"georeferenceProtocol\", \"georeferenceSources\",\n",
        "    \"georeferenceVerificationStatus\", \"georeferenceRemarks\",\n",
        "    \"geologicalContextID\", \"earliestEonOrLowestEonothem\",\n",
        "    \"latestEonOrHighestEonothem\", \"earliestEraOrLowestErathem\",\n",
        "    \"latestEraOrHighestErathem\", \"earliestPeriodOrLowestSystem\",\n",
        "    \"latestPeriodOrHighestSystem\", \"earliestEpochOrLowestSeries\",\n",
        "    \"latestEpochOrHighestSeries\", \"earliestAgeOrLowestStage\",\n",
        "    \"latestAgeOrHighestStage\", \"lowestBiostratigraphicZone\",\n",
        "    \"highestBiostratigraphicZone\", \"lithostratigraphicTerms\", \"group\",\n",
        "    \"formation\", \"member\", \"bed\", \"identificationID\", \"identificationQualifier\",\n",
        "    \"typeStatus\", \"identifiedBy\", \"dateIdentified\", \"identificationReferences\",\n",
        "    \"identificationVerificationStatus\", \"identificationRemarks\", \"taxonID\",\n",
        "    \"scientificName\", \"acceptedNameUsage\", \"parentNameUsage\",\n",
        "    \"originalNameUsage\", \"nameAccordingTo\", \"namePublishedIn\",\n",
        "    \"namePublishedInYear\", \"higherClassification\", \"kingdom\", \"phylum\", \"class\",\n",
        "    \"order\", \"family\", \"genus\", \"subgenus\", \"specificEpithet\",\n",
        "    \"infraspecificEpithet\", \"taxonRank\", \"verbatimTaxonRank\",\n",
        "    \"scientificNameAuthorship\", \"vernacularName\", \"nomenclaturalCode\",\n",
        "    \"taxonomicStatus\", \"nomenclaturalStatus\", \"taxonRemarks\", \"measurementID\",\n",
        "    \"measurementType\", \"measurementValue\", \"measurementAccuracy\",\n",
        "    \"measurementUnit\", \"measurementDeterminedBy\", \"measurementDeterminedDate\",\n",
        "    \"measurementMethod\", \"measurementRemarks\", \"resourceRelationshipID\",\n",
        "    \"resourceID\", \"relatedResourceID\", \"relationshipOfResource\",\n",
        "    \"relationshipAccordingTo\", \"relationshipEstablishedDate\",\n",
        "    \"relationshipRemarks\"\n",
        "]\n",
        "\n",
        "# Species and countrycode do not exist\n",
        "\n",
        "# matching terms equals column, for every column in the dataframe if the column exists in the darwin core terms\n",
        "\n",
        "matching_terms = [column for column in data.columns if column in darwin_core_terms]\n",
        "matching_terms = pd.Series(matching_terms)\n",
        "print(f\"There are {matching_terms.shape[0]} columns that match the Darwin Core Occurrence Class out of {data.shape[1]} columns in the dataset.\")\n",
        "# matching_terms.to_csv(\"Matching DC Terms.csv\", index=False)"
      ]
    },
    {
      "cell_type": "code",
      "execution_count": null,
      "metadata": {
        "colab": {
          "base_uri": "https://localhost:8080/"
        },
        "id": "XOZYYsN_x4EW",
        "outputId": "e2b2c4d0-7440-4ed9-f26d-7ce67960f596"
      },
      "outputs": [
        {
          "output_type": "stream",
          "name": "stdout",
          "text": [
            "Index(['stateProvince', 'county', 'decimalLongitude', 'decimalLatitude'], dtype='object')\n",
            "After imputation and finding some of the missing coordinates, we went from 94.78% missing conrdinates into 28.55%\n"
          ]
        }
      ],
      "source": [
        "county_path = '/content/drive/MyDrive/Spring 2024/Independent Study/Week 12/counties_curated.csv'\n",
        "\n",
        "counties = pd.read_csv(county_path, encoding=\"latin1\", low_memory=False)\n",
        "print(counties.columns)\n",
        "\n",
        "import pandas as pd\n",
        "import numpy as np\n",
        "\n",
        "# Assuming 'data' and 'counties' are your DataFrames already loaded\n",
        "location = data[['county', 'stateProvince', 'decimalLongitude', 'decimalLatitude']]\n",
        "\n",
        "# Merge the DataFrames on 'stateProvince' and 'county'\n",
        "merged_df = pd.merge(location, counties[['county', 'stateProvince', 'decimalLongitude', 'decimalLatitude']],\n",
        "                     on=['county', 'stateProvince'], suffixes=('', '_from_counties'), how='left')\n",
        "\n",
        "# Function to update coordinates if they are NaN\n",
        "def update_coordinates(row):\n",
        "    if pd.isna(row['decimalLongitude']):\n",
        "        row['decimalLongitude'] = row['decimalLongitude_from_counties']\n",
        "    if pd.isna(row['decimalLatitude']):\n",
        "        row['decimalLatitude'] = row['decimalLatitude_from_counties']\n",
        "    return row\n",
        "\n",
        "# Apply the function to each row\n",
        "updated_location = merged_df.apply(update_coordinates, axis=1)\n",
        "\n",
        "# Drop the extra columns from counties\n",
        "updated_location.drop(columns=['decimalLongitude_from_counties', 'decimalLatitude_from_counties'], inplace=True)\n",
        "\n",
        "# Check results\n",
        "# print(updated_location.head())\n",
        "\n",
        "new_data = data.drop(['decimalLongitude', 'decimalLatitude', 'county', 'stateProvince'], axis=1)\n",
        "data = pd.concat([new_data, updated_location], axis=1)\n",
        "\n",
        "\n",
        "# Save the modified dataset\n",
        "data.to_csv(\"newOccurrences.csv\", index=False)\n",
        "\n",
        "\n",
        "# data.head()\n",
        "\n",
        "\n",
        "emptyLongitude = data['decimalLongitude'].isnull().sum()\n",
        "longPercent = round((emptyLongitude/data.shape[0])*100, 2)\n",
        "emptyLatitude = data['decimalLatitude'].isnull().sum()\n",
        "latPercent = round((emptyLatitude/data.shape[0])*100, 2)\n",
        "\n",
        "\n",
        "print(f'After imputation and finding some of the missing coordinates, we went from 94.78% missing conrdinates into {longPercent}%')"
      ]
    }
  ],
  "metadata": {
    "colab": {
      "provenance": [],
      "mount_file_id": "1c_7Pvz5uABmUYiW77Tyjc7WlQC59wRii",
      "authorship_tag": "ABX9TyPkjjldzoUCAzwDQW1nTiKu",
      "include_colab_link": true
    },
    "kernelspec": {
      "display_name": "Python 3",
      "name": "python3"
    },
    "language_info": {
      "name": "python"
    }
  },
  "nbformat": 4,
  "nbformat_minor": 0
}